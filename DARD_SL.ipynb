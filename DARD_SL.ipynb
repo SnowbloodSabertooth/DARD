{
  "cells": [
    {
      "cell_type": "code",
      "execution_count": null,
      "metadata": {
        "id": "4hSMTCaEql8o",
        "colab": {
          "base_uri": "https://localhost:8080/"
        },
        "outputId": "bb985b85-e18d-4277-eef5-6b8a66a725e4"
      },
      "outputs": [
        {
          "output_type": "stream",
          "name": "stdout",
          "text": [
            "Mounted at /content/drive\n"
          ]
        }
      ],
      "source": [
        "from google.colab import drive\n",
        "drive.mount('/content/drive')"
      ]
    },
    {
      "cell_type": "code",
      "execution_count": null,
      "metadata": {
        "id": "0IpWVflIwvZC"
      },
      "outputs": [],
      "source": [
        "import numpy as np\n",
        "import pandas as pd\n",
        "import matplotlib.pyplot as plt"
      ]
    },
    {
      "cell_type": "markdown",
      "metadata": {
        "id": "DnbEnAbm9RmG"
      },
      "source": [
        "# **Importing and Constructing Dataset**"
      ]
    },
    {
      "cell_type": "code",
      "execution_count": null,
      "metadata": {
        "colab": {
          "base_uri": "https://localhost:8080/",
          "height": 307
        },
        "id": "Nxykgf50ughy",
        "outputId": "32a964b1-cf50-4e6d-bcc6-dab0c44a2cde"
      },
      "outputs": [
        {
          "output_type": "execute_result",
          "data": {
            "text/plain": [
              "   Label (1 Ransomware / 0 Goodware)  API:GetSystemDirectoryA  \\\n",
              "0                                  1                        0   \n",
              "1                                  1                        1   \n",
              "2                                  1                        0   \n",
              "3                                  1                        0   \n",
              "4                                  1                        1   \n",
              "\n",
              "   API:WriteConsoleA  API:NtOpenFile  API:NtCreateProcessEx  \\\n",
              "0                  0               0                      0   \n",
              "1                  0               1                      0   \n",
              "2                  0               0                      0   \n",
              "3                  0               0                      0   \n",
              "4                  0               1                      0   \n",
              "\n",
              "   API:GetSystemInfo  API:WriteConsoleW  API:NtReadVirtualMemory  \\\n",
              "0                  0                  0                        0   \n",
              "1                  1                  0                        1   \n",
              "2                  0                  0                        0   \n",
              "3                  1                  0                        0   \n",
              "4                  0                  1                        1   \n",
              "\n",
              "   API:RemoveDirectoryA  API:GetKeyState  ...  STR:16247  STR:16252  \\\n",
              "0                     0                0  ...          0          0   \n",
              "1                     0                0  ...          0          0   \n",
              "2                     0                0  ...          0          0   \n",
              "3                     0                0  ...          0          0   \n",
              "4                     0                1  ...          0          0   \n",
              "\n",
              "   STR:16253  STR:16255  STR:16256  STR:16259  STR:16260  STR:16261  \\\n",
              "0          0          0          0          0          0          0   \n",
              "1          0          0          0          0          0          0   \n",
              "2          0          0          0          0          0          0   \n",
              "3          0          0          0          0          0          0   \n",
              "4          0          0          0          0          0          0   \n",
              "\n",
              "   STR:16264  STR:16267  \n",
              "0          0          0  \n",
              "1          0          0  \n",
              "2          0          0  \n",
              "3          0          0  \n",
              "4          0          0  \n",
              "\n",
              "[5 rows x 23617 columns]"
            ],
            "text/html": [
              "\n",
              "  <div id=\"df-25ed1947-cb67-40d2-a943-8629fa620a68\" class=\"colab-df-container\">\n",
              "    <div>\n",
              "<style scoped>\n",
              "    .dataframe tbody tr th:only-of-type {\n",
              "        vertical-align: middle;\n",
              "    }\n",
              "\n",
              "    .dataframe tbody tr th {\n",
              "        vertical-align: top;\n",
              "    }\n",
              "\n",
              "    .dataframe thead th {\n",
              "        text-align: right;\n",
              "    }\n",
              "</style>\n",
              "<table border=\"1\" class=\"dataframe\">\n",
              "  <thead>\n",
              "    <tr style=\"text-align: right;\">\n",
              "      <th></th>\n",
              "      <th>Label (1 Ransomware / 0 Goodware)</th>\n",
              "      <th>API:GetSystemDirectoryA</th>\n",
              "      <th>API:WriteConsoleA</th>\n",
              "      <th>API:NtOpenFile</th>\n",
              "      <th>API:NtCreateProcessEx</th>\n",
              "      <th>API:GetSystemInfo</th>\n",
              "      <th>API:WriteConsoleW</th>\n",
              "      <th>API:NtReadVirtualMemory</th>\n",
              "      <th>API:RemoveDirectoryA</th>\n",
              "      <th>API:GetKeyState</th>\n",
              "      <th>...</th>\n",
              "      <th>STR:16247</th>\n",
              "      <th>STR:16252</th>\n",
              "      <th>STR:16253</th>\n",
              "      <th>STR:16255</th>\n",
              "      <th>STR:16256</th>\n",
              "      <th>STR:16259</th>\n",
              "      <th>STR:16260</th>\n",
              "      <th>STR:16261</th>\n",
              "      <th>STR:16264</th>\n",
              "      <th>STR:16267</th>\n",
              "    </tr>\n",
              "  </thead>\n",
              "  <tbody>\n",
              "    <tr>\n",
              "      <th>0</th>\n",
              "      <td>1</td>\n",
              "      <td>0</td>\n",
              "      <td>0</td>\n",
              "      <td>0</td>\n",
              "      <td>0</td>\n",
              "      <td>0</td>\n",
              "      <td>0</td>\n",
              "      <td>0</td>\n",
              "      <td>0</td>\n",
              "      <td>0</td>\n",
              "      <td>...</td>\n",
              "      <td>0</td>\n",
              "      <td>0</td>\n",
              "      <td>0</td>\n",
              "      <td>0</td>\n",
              "      <td>0</td>\n",
              "      <td>0</td>\n",
              "      <td>0</td>\n",
              "      <td>0</td>\n",
              "      <td>0</td>\n",
              "      <td>0</td>\n",
              "    </tr>\n",
              "    <tr>\n",
              "      <th>1</th>\n",
              "      <td>1</td>\n",
              "      <td>1</td>\n",
              "      <td>0</td>\n",
              "      <td>1</td>\n",
              "      <td>0</td>\n",
              "      <td>1</td>\n",
              "      <td>0</td>\n",
              "      <td>1</td>\n",
              "      <td>0</td>\n",
              "      <td>0</td>\n",
              "      <td>...</td>\n",
              "      <td>0</td>\n",
              "      <td>0</td>\n",
              "      <td>0</td>\n",
              "      <td>0</td>\n",
              "      <td>0</td>\n",
              "      <td>0</td>\n",
              "      <td>0</td>\n",
              "      <td>0</td>\n",
              "      <td>0</td>\n",
              "      <td>0</td>\n",
              "    </tr>\n",
              "    <tr>\n",
              "      <th>2</th>\n",
              "      <td>1</td>\n",
              "      <td>0</td>\n",
              "      <td>0</td>\n",
              "      <td>0</td>\n",
              "      <td>0</td>\n",
              "      <td>0</td>\n",
              "      <td>0</td>\n",
              "      <td>0</td>\n",
              "      <td>0</td>\n",
              "      <td>0</td>\n",
              "      <td>...</td>\n",
              "      <td>0</td>\n",
              "      <td>0</td>\n",
              "      <td>0</td>\n",
              "      <td>0</td>\n",
              "      <td>0</td>\n",
              "      <td>0</td>\n",
              "      <td>0</td>\n",
              "      <td>0</td>\n",
              "      <td>0</td>\n",
              "      <td>0</td>\n",
              "    </tr>\n",
              "    <tr>\n",
              "      <th>3</th>\n",
              "      <td>1</td>\n",
              "      <td>0</td>\n",
              "      <td>0</td>\n",
              "      <td>0</td>\n",
              "      <td>0</td>\n",
              "      <td>1</td>\n",
              "      <td>0</td>\n",
              "      <td>0</td>\n",
              "      <td>0</td>\n",
              "      <td>0</td>\n",
              "      <td>...</td>\n",
              "      <td>0</td>\n",
              "      <td>0</td>\n",
              "      <td>0</td>\n",
              "      <td>0</td>\n",
              "      <td>0</td>\n",
              "      <td>0</td>\n",
              "      <td>0</td>\n",
              "      <td>0</td>\n",
              "      <td>0</td>\n",
              "      <td>0</td>\n",
              "    </tr>\n",
              "    <tr>\n",
              "      <th>4</th>\n",
              "      <td>1</td>\n",
              "      <td>1</td>\n",
              "      <td>0</td>\n",
              "      <td>1</td>\n",
              "      <td>0</td>\n",
              "      <td>0</td>\n",
              "      <td>1</td>\n",
              "      <td>1</td>\n",
              "      <td>0</td>\n",
              "      <td>1</td>\n",
              "      <td>...</td>\n",
              "      <td>0</td>\n",
              "      <td>0</td>\n",
              "      <td>0</td>\n",
              "      <td>0</td>\n",
              "      <td>0</td>\n",
              "      <td>0</td>\n",
              "      <td>0</td>\n",
              "      <td>0</td>\n",
              "      <td>0</td>\n",
              "      <td>0</td>\n",
              "    </tr>\n",
              "  </tbody>\n",
              "</table>\n",
              "<p>5 rows × 23617 columns</p>\n",
              "</div>\n",
              "    <div class=\"colab-df-buttons\">\n",
              "\n",
              "  <div class=\"colab-df-container\">\n",
              "    <button class=\"colab-df-convert\" onclick=\"convertToInteractive('df-25ed1947-cb67-40d2-a943-8629fa620a68')\"\n",
              "            title=\"Convert this dataframe to an interactive table.\"\n",
              "            style=\"display:none;\">\n",
              "\n",
              "  <svg xmlns=\"http://www.w3.org/2000/svg\" height=\"24px\" viewBox=\"0 -960 960 960\">\n",
              "    <path d=\"M120-120v-720h720v720H120Zm60-500h600v-160H180v160Zm220 220h160v-160H400v160Zm0 220h160v-160H400v160ZM180-400h160v-160H180v160Zm440 0h160v-160H620v160ZM180-180h160v-160H180v160Zm440 0h160v-160H620v160Z\"/>\n",
              "  </svg>\n",
              "    </button>\n",
              "\n",
              "  <style>\n",
              "    .colab-df-container {\n",
              "      display:flex;\n",
              "      gap: 12px;\n",
              "    }\n",
              "\n",
              "    .colab-df-convert {\n",
              "      background-color: #E8F0FE;\n",
              "      border: none;\n",
              "      border-radius: 50%;\n",
              "      cursor: pointer;\n",
              "      display: none;\n",
              "      fill: #1967D2;\n",
              "      height: 32px;\n",
              "      padding: 0 0 0 0;\n",
              "      width: 32px;\n",
              "    }\n",
              "\n",
              "    .colab-df-convert:hover {\n",
              "      background-color: #E2EBFA;\n",
              "      box-shadow: 0px 1px 2px rgba(60, 64, 67, 0.3), 0px 1px 3px 1px rgba(60, 64, 67, 0.15);\n",
              "      fill: #174EA6;\n",
              "    }\n",
              "\n",
              "    .colab-df-buttons div {\n",
              "      margin-bottom: 4px;\n",
              "    }\n",
              "\n",
              "    [theme=dark] .colab-df-convert {\n",
              "      background-color: #3B4455;\n",
              "      fill: #D2E3FC;\n",
              "    }\n",
              "\n",
              "    [theme=dark] .colab-df-convert:hover {\n",
              "      background-color: #434B5C;\n",
              "      box-shadow: 0px 1px 3px 1px rgba(0, 0, 0, 0.15);\n",
              "      filter: drop-shadow(0px 1px 2px rgba(0, 0, 0, 0.3));\n",
              "      fill: #FFFFFF;\n",
              "    }\n",
              "  </style>\n",
              "\n",
              "    <script>\n",
              "      const buttonEl =\n",
              "        document.querySelector('#df-25ed1947-cb67-40d2-a943-8629fa620a68 button.colab-df-convert');\n",
              "      buttonEl.style.display =\n",
              "        google.colab.kernel.accessAllowed ? 'block' : 'none';\n",
              "\n",
              "      async function convertToInteractive(key) {\n",
              "        const element = document.querySelector('#df-25ed1947-cb67-40d2-a943-8629fa620a68');\n",
              "        const dataTable =\n",
              "          await google.colab.kernel.invokeFunction('convertToInteractive',\n",
              "                                                    [key], {});\n",
              "        if (!dataTable) return;\n",
              "\n",
              "        const docLinkHtml = 'Like what you see? Visit the ' +\n",
              "          '<a target=\"_blank\" href=https://colab.research.google.com/notebooks/data_table.ipynb>data table notebook</a>'\n",
              "          + ' to learn more about interactive tables.';\n",
              "        element.innerHTML = '';\n",
              "        dataTable['output_type'] = 'display_data';\n",
              "        await google.colab.output.renderOutput(dataTable, element);\n",
              "        const docLink = document.createElement('div');\n",
              "        docLink.innerHTML = docLinkHtml;\n",
              "        element.appendChild(docLink);\n",
              "      }\n",
              "    </script>\n",
              "  </div>\n",
              "\n",
              "\n",
              "<div id=\"df-89ecc047-6042-4e65-9152-1e2e7c3c8345\">\n",
              "  <button class=\"colab-df-quickchart\" onclick=\"quickchart('df-89ecc047-6042-4e65-9152-1e2e7c3c8345')\"\n",
              "            title=\"Suggest charts\"\n",
              "            style=\"display:none;\">\n",
              "\n",
              "<svg xmlns=\"http://www.w3.org/2000/svg\" height=\"24px\"viewBox=\"0 0 24 24\"\n",
              "     width=\"24px\">\n",
              "    <g>\n",
              "        <path d=\"M19 3H5c-1.1 0-2 .9-2 2v14c0 1.1.9 2 2 2h14c1.1 0 2-.9 2-2V5c0-1.1-.9-2-2-2zM9 17H7v-7h2v7zm4 0h-2V7h2v10zm4 0h-2v-4h2v4z\"/>\n",
              "    </g>\n",
              "</svg>\n",
              "  </button>\n",
              "\n",
              "<style>\n",
              "  .colab-df-quickchart {\n",
              "      --bg-color: #E8F0FE;\n",
              "      --fill-color: #1967D2;\n",
              "      --hover-bg-color: #E2EBFA;\n",
              "      --hover-fill-color: #174EA6;\n",
              "      --disabled-fill-color: #AAA;\n",
              "      --disabled-bg-color: #DDD;\n",
              "  }\n",
              "\n",
              "  [theme=dark] .colab-df-quickchart {\n",
              "      --bg-color: #3B4455;\n",
              "      --fill-color: #D2E3FC;\n",
              "      --hover-bg-color: #434B5C;\n",
              "      --hover-fill-color: #FFFFFF;\n",
              "      --disabled-bg-color: #3B4455;\n",
              "      --disabled-fill-color: #666;\n",
              "  }\n",
              "\n",
              "  .colab-df-quickchart {\n",
              "    background-color: var(--bg-color);\n",
              "    border: none;\n",
              "    border-radius: 50%;\n",
              "    cursor: pointer;\n",
              "    display: none;\n",
              "    fill: var(--fill-color);\n",
              "    height: 32px;\n",
              "    padding: 0;\n",
              "    width: 32px;\n",
              "  }\n",
              "\n",
              "  .colab-df-quickchart:hover {\n",
              "    background-color: var(--hover-bg-color);\n",
              "    box-shadow: 0 1px 2px rgba(60, 64, 67, 0.3), 0 1px 3px 1px rgba(60, 64, 67, 0.15);\n",
              "    fill: var(--button-hover-fill-color);\n",
              "  }\n",
              "\n",
              "  .colab-df-quickchart-complete:disabled,\n",
              "  .colab-df-quickchart-complete:disabled:hover {\n",
              "    background-color: var(--disabled-bg-color);\n",
              "    fill: var(--disabled-fill-color);\n",
              "    box-shadow: none;\n",
              "  }\n",
              "\n",
              "  .colab-df-spinner {\n",
              "    border: 2px solid var(--fill-color);\n",
              "    border-color: transparent;\n",
              "    border-bottom-color: var(--fill-color);\n",
              "    animation:\n",
              "      spin 1s steps(1) infinite;\n",
              "  }\n",
              "\n",
              "  @keyframes spin {\n",
              "    0% {\n",
              "      border-color: transparent;\n",
              "      border-bottom-color: var(--fill-color);\n",
              "      border-left-color: var(--fill-color);\n",
              "    }\n",
              "    20% {\n",
              "      border-color: transparent;\n",
              "      border-left-color: var(--fill-color);\n",
              "      border-top-color: var(--fill-color);\n",
              "    }\n",
              "    30% {\n",
              "      border-color: transparent;\n",
              "      border-left-color: var(--fill-color);\n",
              "      border-top-color: var(--fill-color);\n",
              "      border-right-color: var(--fill-color);\n",
              "    }\n",
              "    40% {\n",
              "      border-color: transparent;\n",
              "      border-right-color: var(--fill-color);\n",
              "      border-top-color: var(--fill-color);\n",
              "    }\n",
              "    60% {\n",
              "      border-color: transparent;\n",
              "      border-right-color: var(--fill-color);\n",
              "    }\n",
              "    80% {\n",
              "      border-color: transparent;\n",
              "      border-right-color: var(--fill-color);\n",
              "      border-bottom-color: var(--fill-color);\n",
              "    }\n",
              "    90% {\n",
              "      border-color: transparent;\n",
              "      border-bottom-color: var(--fill-color);\n",
              "    }\n",
              "  }\n",
              "</style>\n",
              "\n",
              "  <script>\n",
              "    async function quickchart(key) {\n",
              "      const quickchartButtonEl =\n",
              "        document.querySelector('#' + key + ' button');\n",
              "      quickchartButtonEl.disabled = true;  // To prevent multiple clicks.\n",
              "      quickchartButtonEl.classList.add('colab-df-spinner');\n",
              "      try {\n",
              "        const charts = await google.colab.kernel.invokeFunction(\n",
              "            'suggestCharts', [key], {});\n",
              "      } catch (error) {\n",
              "        console.error('Error during call to suggestCharts:', error);\n",
              "      }\n",
              "      quickchartButtonEl.classList.remove('colab-df-spinner');\n",
              "      quickchartButtonEl.classList.add('colab-df-quickchart-complete');\n",
              "    }\n",
              "    (() => {\n",
              "      let quickchartButtonEl =\n",
              "        document.querySelector('#df-89ecc047-6042-4e65-9152-1e2e7c3c8345 button');\n",
              "      quickchartButtonEl.style.display =\n",
              "        google.colab.kernel.accessAllowed ? 'block' : 'none';\n",
              "    })();\n",
              "  </script>\n",
              "</div>\n",
              "\n",
              "    </div>\n",
              "  </div>\n"
            ],
            "application/vnd.google.colaboratory.intrinsic+json": {
              "type": "dataframe",
              "variable_name": "dataset"
            }
          },
          "metadata": {},
          "execution_count": 3
        }
      ],
      "source": [
        "INPUT_PATH = '/content/drive/MyDrive/Dataset/ransomwaredataset2016-main/'\n",
        "\n",
        "f1= open(INPUT_PATH + 'VariableNames.txt', encoding = 'utf-8')\n",
        "columns=[]\n",
        "for i in f1:\n",
        "    column = i.split(';')\n",
        "    columns.append(column[1].replace('\\n', ''))\n",
        "\n",
        "\n",
        "\n",
        "data = pd.read_csv(INPUT_PATH + 'RansomwareData.csv', header=None,names=columns)\n",
        "\n",
        "dataset_temp =  data.loc[:, (data != data.iloc[0]).any()]\n",
        "\n",
        "dataset = dataset_temp.drop(['ID', 'Ransomware Family'], axis =1)\n",
        "dataset.head()"
      ]
    },
    {
      "cell_type": "markdown",
      "metadata": {
        "id": "LFP_ms6KinLU"
      },
      "source": [
        "# **Train-Test Split**"
      ]
    },
    {
      "cell_type": "code",
      "execution_count": null,
      "metadata": {
        "colab": {
          "base_uri": "https://localhost:8080/"
        },
        "id": "7mFbY7pTJyEQ",
        "outputId": "67841f00-6f35-40a8-bca8-6f7d6ee9a758"
      },
      "outputs": [
        {
          "output_type": "stream",
          "name": "stdout",
          "text": [
            "      API:GetSystemDirectoryA  API:WriteConsoleA  API:NtOpenFile  \\\n",
            "0                           0                  0               0   \n",
            "1                           1                  0               1   \n",
            "2                           0                  0               0   \n",
            "3                           0                  0               0   \n",
            "4                           1                  0               1   \n",
            "...                       ...                ...             ...   \n",
            "1519                        0                  0               0   \n",
            "1520                        0                  0               1   \n",
            "1521                        0                  0               1   \n",
            "1522                        0                  0               1   \n",
            "1523                        0                  0               1   \n",
            "\n",
            "      API:NtCreateProcessEx  API:GetSystemInfo  API:WriteConsoleW  \\\n",
            "0                         0                  0                  0   \n",
            "1                         0                  1                  0   \n",
            "2                         0                  0                  0   \n",
            "3                         0                  1                  0   \n",
            "4                         0                  0                  1   \n",
            "...                     ...                ...                ...   \n",
            "1519                      0                  1                  0   \n",
            "1520                      0                  1                  0   \n",
            "1521                      0                  1                  0   \n",
            "1522                      0                  0                  0   \n",
            "1523                      0                  1                  0   \n",
            "\n",
            "      API:NtReadVirtualMemory  API:RemoveDirectoryA  API:GetKeyState  \\\n",
            "0                           0                     0                0   \n",
            "1                           1                     0                0   \n",
            "2                           0                     0                0   \n",
            "3                           0                     0                0   \n",
            "4                           1                     0                1   \n",
            "...                       ...                   ...              ...   \n",
            "1519                        0                     0                0   \n",
            "1520                        1                     0                0   \n",
            "1521                        1                     1                1   \n",
            "1522                        0                     0                1   \n",
            "1523                        0                     0                0   \n",
            "\n",
            "      API:FindFirstFileExA  ...  STR:16247  STR:16252  STR:16253  STR:16255  \\\n",
            "0                        0  ...          0          0          0          0   \n",
            "1                        0  ...          0          0          0          0   \n",
            "2                        0  ...          0          0          0          0   \n",
            "3                        0  ...          0          0          0          0   \n",
            "4                        0  ...          0          0          0          0   \n",
            "...                    ...  ...        ...        ...        ...        ...   \n",
            "1519                     0  ...          0          0          0          0   \n",
            "1520                     0  ...          0          0          0          0   \n",
            "1521                     0  ...          0          0          0          0   \n",
            "1522                     0  ...          0          0          0          0   \n",
            "1523                     0  ...          0          0          0          0   \n",
            "\n",
            "      STR:16256  STR:16259  STR:16260  STR:16261  STR:16264  STR:16267  \n",
            "0             0          0          0          0          0          0  \n",
            "1             0          0          0          0          0          0  \n",
            "2             0          0          0          0          0          0  \n",
            "3             0          0          0          0          0          0  \n",
            "4             0          0          0          0          0          0  \n",
            "...         ...        ...        ...        ...        ...        ...  \n",
            "1519          0          0          0          0          0          0  \n",
            "1520          0          0          0          0          0          0  \n",
            "1521          0          0          0          0          0          0  \n",
            "1522          0          0          0          0          0          0  \n",
            "1523          0          0          0          0          0          0  \n",
            "\n",
            "[1524 rows x 23616 columns]\n",
            "----------------------------------\n",
            "0       1\n",
            "1       1\n",
            "2       1\n",
            "3       1\n",
            "4       1\n",
            "       ..\n",
            "1519    0\n",
            "1520    0\n",
            "1521    0\n",
            "1522    0\n",
            "1523    0\n",
            "Name: Label (1 Ransomware / 0 Goodware), Length: 1524, dtype: int64\n"
          ]
        }
      ],
      "source": [
        "X= dataset.drop(columns='Label (1 Ransomware / 0 Goodware)', axis =1)\n",
        "Y= dataset['Label (1 Ransomware / 0 Goodware)']\n",
        "\n",
        "print(X)\n",
        "print(\"----------------------------------\")\n",
        "print(Y)"
      ]
    },
    {
      "cell_type": "code",
      "execution_count": null,
      "metadata": {
        "colab": {
          "base_uri": "https://localhost:8080/"
        },
        "id": "Yf18m44JkDpN",
        "outputId": "45883e39-16b2-41dd-bafd-58cdf182c0ab"
      },
      "outputs": [
        {
          "output_type": "stream",
          "name": "stdout",
          "text": [
            "(1219, 23616)\n"
          ]
        }
      ],
      "source": [
        "from sklearn.model_selection import train_test_split\n",
        "X_train, X_test, Y_train, Y_test = train_test_split(X,Y, test_size = 0.20, random_state = 1)\n",
        "print(X_train.shape)"
      ]
    },
    {
      "cell_type": "markdown",
      "metadata": {
        "id": "mFpPC0kaMC_a"
      },
      "source": [
        "# **Feature Selection and Automation**"
      ]
    },
    {
      "cell_type": "markdown",
      "metadata": {
        "id": "UW4YFZLfOZmX"
      },
      "source": [
        "##  *Information Gain*"
      ]
    },
    {
      "cell_type": "code",
      "execution_count": null,
      "metadata": {
        "id": "d9WjFdgnOjF2"
      },
      "outputs": [],
      "source": [
        "from sklearn.feature_selection import mutual_info_classif"
      ]
    },
    {
      "cell_type": "code",
      "execution_count": null,
      "metadata": {
        "id": "5ZSVtsus8kCi"
      },
      "outputs": [],
      "source": [
        "from sklearn.feature_selection import SelectPercentile\n",
        "from sklearn.tree import DecisionTreeClassifier\n",
        "from sklearn.metrics import accuracy_score\n",
        "import matplotlib.pyplot as plt\n",
        "acc_list = []\n",
        "for p in range(25, 101, 25):\n",
        "  selected_top_columns = SelectPercentile(mutual_info_classif, percentile=p)\n",
        "  selected_top_columns.fit(X_train, Y_train)\n",
        "  features_selected = X_train.columns[selected_top_columns.get_support()]\n",
        "  X_train_select = X_train[features_selected]\n",
        "  X_test_select = X_test[features_selected]\n",
        "  model_DTC = DecisionTreeClassifier(max_leaf_nodes = 25, min_samples_split = 4, random_state = 42)\n",
        "  history1 = model_DTC.fit(X_train_select, Y_train)\n",
        "  y_pred = model_DTC.predict(X_test_select)\n",
        "  acc_list.append(accuracy_score(y_pred, Y_test))\n"
      ]
    },
    {
      "cell_type": "markdown",
      "metadata": {
        "id": "rYX7r8HYGqzg"
      },
      "source": [
        "## *Chi Square*"
      ]
    },
    {
      "cell_type": "code",
      "execution_count": null,
      "metadata": {
        "id": "d4tUHJhuJA-7"
      },
      "outputs": [],
      "source": [
        "from sklearn.feature_selection import SelectPercentile\n",
        "from sklearn.feature_selection import chi2\n",
        "from sklearn.tree import DecisionTreeClassifier\n",
        "from sklearn.metrics import accuracy_score\n",
        "import matplotlib.pyplot as plt\n",
        "\n",
        "acc_list_chi2 = []\n",
        "for p in range(1, 100, 1):\n",
        "  selectChi2 = SelectPercentile(chi2, percentile=25).fit(X_train, Y_train)\n",
        "  chi2_selected = selectChi2.get_support()\n",
        "  features_selected = X_train.columns[chi2_selected]\n",
        "  X_train_select = X_train[features_selected]\n",
        "  X_test_select = X_test[features_selected]\n",
        "  model_DTC = DecisionTreeClassifier(max_leaf_nodes = 25, min_samples_split = 4, random_state = 42)\n",
        "  history1 = model_DTC.fit(X_train_select, Y_train)\n",
        "  y_pred = model_DTC.predict(X_test_select)\n",
        "  acc_list_chi2.append(accuracy_score(y_pred, Y_test))"
      ]
    },
    {
      "cell_type": "markdown",
      "metadata": {
        "id": "Hh7r87d1V_b4"
      },
      "source": [
        "## **For IG and Chi2**"
      ]
    },
    {
      "cell_type": "code",
      "execution_count": null,
      "metadata": {
        "colab": {
          "base_uri": "https://localhost:8080/",
          "height": 467
        },
        "id": "TZL2jpCiw5fo",
        "outputId": "80ed01ee-1bdf-4bea-b8f6-f14194b64b13"
      },
      "outputs": [
        {
          "data": {
            "text/plain": [
              "Text(0, 0.5, 'Accuracy')"
            ]
          },
          "execution_count": 15,
          "metadata": {},
          "output_type": "execute_result"
        },
        {
          "data": {
            "image/png": "[encoded data removed]",
            "text/plain": [
              "<Figure size 640x480 with 1 Axes>"
            ]
          },
          "metadata": {},
          "output_type": "display_data"
        }
      ],
      "source": [
        "plt.plot(range(1, 100, 1), acc_list_chi2, label='Percentile of Features Used vs Accuracy')\n",
        "plt.xlabel('Percentile')\n",
        "plt.ylabel('Accuracy')"
      ]
    },
    {
      "cell_type": "markdown",
      "metadata": {
        "id": "pksLBzjGIrSK"
      },
      "source": [
        "## *Variance Threshold*"
      ]
    },
    {
      "cell_type": "code",
      "execution_count": null,
      "metadata": {
        "colab": {
          "base_uri": "https://localhost:8080/"
        },
        "id": "6xNWULAj3Ni4",
        "outputId": "34ef8679-7b7d-4205-a5a3-63fa9d21518d"
      },
      "outputs": [
        {
          "output_type": "stream",
          "name": "stdout",
          "text": [
            "4671\n"
          ]
        }
      ],
      "source": [
        "from sklearn.feature_selection import VarianceThreshold\n",
        "from sklearn.tree import DecisionTreeClassifier\n",
        "import matplotlib.pyplot as plt\n",
        "from sklearn.metrics import accuracy_score\n",
        "threshold = 0.001\n",
        "\n",
        "\n",
        "selector = VarianceThreshold(threshold=threshold)\n",
        "selector.fit_transform(X_train)\n",
        "num_feats = selector.n_features_in_\n",
        "features_selected = selector.get_feature_names_out()\n",
        "\n",
        "\n",
        "X_train_select = X_train[features_selected]\n",
        "X_test_select = X_test[features_selected]\n",
        "print(len(X_train_select.columns))"
      ]
    },
    {
      "cell_type": "code",
      "execution_count": null,
      "metadata": {
        "id": "nvbC63PPJB-0"
      },
      "outputs": [],
      "source": [
        "from sklearn.feature_selection import VarianceThreshold\n",
        "from sklearn.tree import DecisionTreeClassifier\n",
        "import matplotlib.pyplot as plt\n",
        "from sklearn.metrics import accuracy_score\n",
        "acc_list = []\n",
        "for t in range(0, 250, 1):\n",
        "  threshold = t*0.001\n",
        "  selector = VarianceThreshold(threshold=threshold)\n",
        "  selector.fit_transform(X_train)\n",
        "  num_feats = selector.n_features_in_\n",
        "  features_selected = selector.get_feature_names_out()\n",
        "  X_train_select = X_train[features_selected]\n",
        "  X_test_select = X_test[features_selected]\n",
        "  model_DTC = DecisionTreeClassifier(max_leaf_nodes = 25, min_samples_split = 4, random_state = 42)\n",
        "  history1 = model_DTC.fit(X_train_select, Y_train)\n",
        "  y_pred = model_DTC.predict(X_test_select)\n",
        "  acc_list.append(accuracy_score(y_pred, Y_test))\n"
      ]
    },
    {
      "cell_type": "code",
      "execution_count": null,
      "metadata": {
        "colab": {
          "base_uri": "https://localhost:8080/",
          "height": 467
        },
        "id": "6DgvIbdnMyoZ",
        "outputId": "167ce08c-661f-48d9-f9b2-ec2bc71c32d4"
      },
      "outputs": [
        {
          "data": {
            "text/plain": [
              "Text(0, 0.5, 'Accuracy')"
            ]
          },
          "execution_count": 85,
          "metadata": {},
          "output_type": "execute_result"
        },
        {
          "data": {
            "image/png": "[encoded data removed]",
            "text/plain": [
              "<Figure size 640x480 with 1 Axes>"
            ]
          },
          "metadata": {},
          "output_type": "display_data"
        }
      ],
      "source": [
        "thrshld_list = []\n",
        "for t in range(0, 250, 1):\n",
        "  thrshld_list.append(t*0.001)\n",
        "\n",
        "plt.plot(thrshld_list, acc_list, label='Threshold vs Accuracy in Variance Threshold')\n",
        "plt.xticks(np.arange(0.001, 0.249, step=0.025))\n",
        "plt.yticks(np.arange(0.90, 0.99, step=0.01))\n",
        "plt.xlabel('Threshold')\n",
        "plt.ylabel('Accuracy')"
      ]
    },
    {
      "cell_type": "markdown",
      "metadata": {
        "id": "MCH-7oG-I4pu"
      },
      "source": [
        "## *Mean Absolute Difference(MAD)*"
      ]
    },
    {
      "cell_type": "code",
      "execution_count": null,
      "metadata": {
        "id": "9GNxBdlQJC0j"
      },
      "outputs": [],
      "source": [
        "from sklearn.feature_selection import SelectPercentile\n",
        "from sklearn.tree import DecisionTreeClassifier\n",
        "from sklearn.metrics import accuracy_score\n",
        "import matplotlib.pyplot as plt\n",
        "\n",
        "def mean_absolute_difference(X, Y):\n",
        "    abs_diff = np.abs(X - Y)\n",
        "    mad = np.mean(abs_diff, axis=0)\n",
        "    return mad\n",
        "\n",
        "mad_scores = mean_absolute_difference(X_train, Y_train)\n",
        "def custom_score_function(X, Y):\n",
        "    return mad_scores\n",
        "acc_list_mad = []\n",
        "\n",
        "for p in range(1,100,1):\n",
        "    mad_selector = SelectPercentile(score_func= custom_score_function, percentile=25)\n",
        "    mad_selector.fit(X_train, Y_train)\n",
        "    indices = mad_selector.get_support(indices=True)\n",
        "    features_selected = X_train.columns[indices]\n",
        "    X_train_select = X_train[features_selected]\n",
        "    X_test_select = X_test[features_selected]\n",
        "    model_DTC = DecisionTreeClassifier(max_leaf_nodes = 25, min_samples_split = 4, random_state = 42)\n",
        "    history1 = model_DTC.fit(X_train_select, Y_train)\n",
        "    y_pred = model_DTC.predict(X_test_select)\n",
        "    acc_list_mad.append(accuracy_score(y_pred, Y_test))"
      ]
    },
    {
      "cell_type": "code",
      "execution_count": null,
      "metadata": {
        "colab": {
          "base_uri": "https://localhost:8080/",
          "height": 466
        },
        "id": "-2aPUwy3Tom2",
        "outputId": "92fbdc07-afd9-4120-a538-b2f7e211151b"
      },
      "outputs": [
        {
          "data": {
            "text/plain": [
              "Text(0, 0.5, 'Accuracy')"
            ]
          },
          "execution_count": 9,
          "metadata": {},
          "output_type": "execute_result"
        },
        {
          "data": {
            "image/png": "[encoded data removed]",
            "text/plain": [
              "<Figure size 640x480 with 1 Axes>"
            ]
          },
          "metadata": {},
          "output_type": "display_data"
        }
      ],
      "source": [
        "\n",
        "plt.plot(range(1, 100, 1), acc_list_mad, label='Percentile of Features Used vs Accuracy')\n",
        "plt.xlabel('Percentile')\n",
        "plt.ylabel('Accuracy')\n"
      ]
    },
    {
      "cell_type": "markdown",
      "metadata": {
        "id": "UvHifSrxOMMD"
      },
      "source": [
        "## *Maximum Relevance Minimum Redundancy(MRMR)*"
      ]
    },
    {
      "cell_type": "code",
      "execution_count": null,
      "metadata": {
        "colab": {
          "base_uri": "https://localhost:8080/"
        },
        "id": "nEZjBcJPQx12",
        "outputId": "51413d02-b7fd-4601-b27b-c607afff0fb7"
      },
      "outputs": [
        {
          "output_type": "stream",
          "name": "stdout",
          "text": [
            "Collecting mrmr_selection\n",
            "  Downloading mrmr_selection-0.2.8-py3-none-any.whl (15 kB)\n",
            "Collecting category-encoders (from mrmr_selection)\n",
            "  Downloading category_encoders-2.6.3-py2.py3-none-any.whl (81 kB)\n",
            "\u001b[?25l     \u001b[90m━━━━━━━━━━━━━━━━━━━━━━━━━━━━━━━━━━━━━━━━\u001b[0m \u001b[32m0.0/81.9 kB\u001b[0m \u001b[31m?\u001b[0m eta \u001b[36m-:--:--\u001b[0m\r\u001b[2K     \u001b[90m━━━━━━━━━━━━━━━━━━━━━━━━━━━━━━━━━━━━━━━━\u001b[0m \u001b[32m81.9/81.9 kB\u001b[0m \u001b[31m3.0 MB/s\u001b[0m eta \u001b[36m0:00:00\u001b[0m\n",
            "\u001b[?25hRequirement already satisfied: jinja2 in /usr/local/lib/python3.10/dist-packages (from mrmr_selection) (3.1.3)\n",
            "Requirement already satisfied: tqdm in /usr/local/lib/python3.10/dist-packages (from mrmr_selection) (4.66.2)\n",
            "Requirement already satisfied: joblib in /usr/local/lib/python3.10/dist-packages (from mrmr_selection) (1.4.0)\n",
            "Requirement already satisfied: pandas>=1.0.3 in /usr/local/lib/python3.10/dist-packages (from mrmr_selection) (2.0.3)\n",
            "Requirement already satisfied: numpy>=1.18.1 in /usr/local/lib/python3.10/dist-packages (from mrmr_selection) (1.25.2)\n",
            "Requirement already satisfied: scikit-learn in /usr/local/lib/python3.10/dist-packages (from mrmr_selection) (1.2.2)\n",
            "Requirement already satisfied: scipy in /usr/local/lib/python3.10/dist-packages (from mrmr_selection) (1.11.4)\n",
            "Requirement already satisfied: polars>=0.12.5 in /usr/local/lib/python3.10/dist-packages (from mrmr_selection) (0.20.2)\n",
            "Requirement already satisfied: python-dateutil>=2.8.2 in /usr/local/lib/python3.10/dist-packages (from pandas>=1.0.3->mrmr_selection) (2.8.2)\n",
            "Requirement already satisfied: pytz>=2020.1 in /usr/local/lib/python3.10/dist-packages (from pandas>=1.0.3->mrmr_selection) (2023.4)\n",
            "Requirement already satisfied: tzdata>=2022.1 in /usr/local/lib/python3.10/dist-packages (from pandas>=1.0.3->mrmr_selection) (2024.1)\n",
            "Requirement already satisfied: statsmodels>=0.9.0 in /usr/local/lib/python3.10/dist-packages (from category-encoders->mrmr_selection) (0.14.2)\n",
            "Requirement already satisfied: patsy>=0.5.1 in /usr/local/lib/python3.10/dist-packages (from category-encoders->mrmr_selection) (0.5.6)\n",
            "Requirement already satisfied: threadpoolctl>=2.0.0 in /usr/local/lib/python3.10/dist-packages (from scikit-learn->mrmr_selection) (3.4.0)\n",
            "Requirement already satisfied: MarkupSafe>=2.0 in /usr/local/lib/python3.10/dist-packages (from jinja2->mrmr_selection) (2.1.5)\n",
            "Requirement already satisfied: six in /usr/local/lib/python3.10/dist-packages (from patsy>=0.5.1->category-encoders->mrmr_selection) (1.16.0)\n",
            "Requirement already satisfied: packaging>=21.3 in /usr/local/lib/python3.10/dist-packages (from statsmodels>=0.9.0->category-encoders->mrmr_selection) (24.0)\n",
            "Installing collected packages: category-encoders, mrmr_selection\n",
            "Successfully installed category-encoders-2.6.3 mrmr_selection-0.2.8\n"
          ]
        }
      ],
      "source": [
        "!pip install mrmr_selection"
      ]
    },
    {
      "cell_type": "code",
      "execution_count": null,
      "metadata": {
        "colab": {
          "base_uri": "https://localhost:8080/"
        },
        "id": "lMXIwwvLQ845",
        "outputId": "3dcec294-f0cd-4d4c-d567-89ffd09992a0"
      },
      "outputs": [
        {
          "output_type": "stream",
          "name": "stderr",
          "text": [
            " 15%|█▌        | 706/4671 [1:14:12<7:07:24,  6.47s/it]"
          ]
        }
      ],
      "source": [
        "from mrmr import mrmr_classif\n",
        "selected_features = mrmr_classif(X=X_train, y=Y_train, K=4671)"
      ]
    },
    {
      "cell_type": "markdown",
      "metadata": {
        "id": "rOGZTfFjTLe-"
      },
      "source": [
        "# Decision Tree Classifier(For Testing Purpose ONLY)"
      ]
    },
    {
      "cell_type": "code",
      "execution_count": null,
      "metadata": {
        "colab": {
          "base_uri": "https://localhost:8080/"
        },
        "id": "2JKyabaKqnxU",
        "outputId": "73a51971-8604-4e98-d6cb-660f353837ba"
      },
      "outputs": [
        {
          "name": "stdout",
          "output_type": "stream",
          "text": [
            "7084\n"
          ]
        }
      ],
      "source": [
        "X_train_select = X_train[features_selected]\n",
        "X_test_select = X_test[features_selected]\n",
        "print(len(X_train_select.columns))"
      ]
    },
    {
      "cell_type": "code",
      "execution_count": null,
      "metadata": {
        "id": "h2pyr-iE3k1f"
      },
      "outputs": [],
      "source": [
        "from sklearn.tree import DecisionTreeClassifier\n",
        "import matplotlib.pyplot as plt\n",
        "from sklearn.metrics import accuracy_score, confusion_matrix\n",
        "\n",
        "model_DTC = DecisionTreeClassifier(max_leaf_nodes = 25, min_samples_split = 4, random_state = 42)\n",
        "history1 = model_DTC.fit(X_train_select, Y_train)\n",
        "y_pred = model_DTC.predict(X_test_select)\n",
        "print(f'Accuracy for decision tree model is : {(accuracy_score(y_pred, Y_test)*100)}')\n",
        "\n",
        "C = confusion_matrix(Y_test,y_pred)\n",
        "tn, fp, fn, tp = C.ravel()\n",
        "print()\n",
        "print(f'False Positive Calculted : {(fp / (fp + tn))*100}')\n",
        "print(f'False Negative Calculted : {(fn / (fn + tp))*100}')"
      ]
    },
    {
      "cell_type": "code",
      "execution_count": null,
      "metadata": {
        "colab": {
          "base_uri": "https://localhost:8080/",
          "height": 626
        },
        "id": "wpuwUmWETQA0",
        "outputId": "fa85c993-b64b-4a51-89a6-abcb71bfda56"
      },
      "outputs": [
        {
          "name": "stdout",
          "output_type": "stream",
          "text": [
            "Step 10: Training Accuracy = 0.8482, Validation Accuracy = 0.8525\n",
            "Step 20: Training Accuracy = 0.8482, Validation Accuracy = 0.8525\n",
            "Step 30: Training Accuracy = 0.7744, Validation Accuracy = 0.7836\n",
            "Step 40: Training Accuracy = 0.7818, Validation Accuracy = 0.8066\n",
            "Step 50: Training Accuracy = 0.9098, Validation Accuracy = 0.9016\n",
            "Step 60: Training Accuracy = 0.8958, Validation Accuracy = 0.8951\n",
            "Step 70: Training Accuracy = 0.8499, Validation Accuracy = 0.8590\n",
            "Step 80: Training Accuracy = 0.8983, Validation Accuracy = 0.8689\n",
            "Step 90: Training Accuracy = 0.8860, Validation Accuracy = 0.8689\n",
            "Step 100: Training Accuracy = 0.8950, Validation Accuracy = 0.8721\n"
          ]
        },
        {
          "data": {
            "image/png": "[encoded data removed]",
            "text/plain": [
              "<Figure size 640x480 with 1 Axes>"
            ]
          },
          "metadata": {},
          "output_type": "display_data"
        }
      ],
      "source": [
        "from sklearn.tree import DecisionTreeClassifier\n",
        "from sklearn.model_selection import train_test_split\n",
        "from sklearn.metrics import accuracy_score\n",
        "import matplotlib.pyplot as plt\n",
        "import warnings\n",
        "from sklearn.exceptions import ConvergenceWarning\n",
        "\n",
        "model_DTC = DecisionTreeClassifier(max_leaf_nodes = 25, min_samples_split = 4, random_state = 42)\n",
        "\n",
        "warnings.filterwarnings(\"ignore\", category=ConvergenceWarning)\n",
        "\n",
        "training_accuracy = []\n",
        "validation_accuracy = []\n",
        "\n",
        "for step in range(10, 101, 10):\n",
        "\n",
        "    model_DTC.fit(X_train_select[:step], Y_train[:step])\n",
        "\n",
        "    train_predictions = model_DTC.predict(X_train_select)\n",
        "\n",
        "    val_predictions = model_DTC.predict(X_test_select)\n",
        "\n",
        "    train_accuracy = accuracy_score(Y_train, train_predictions)\n",
        "    val_accuracy = accuracy_score(Y_test, val_predictions)\n",
        "\n",
        "\n",
        "    training_accuracy.append(train_accuracy)\n",
        "    validation_accuracy.append(val_accuracy)\n",
        "\n",
        "    print(f'Step {step}: Training Accuracy = {train_accuracy:.4f}, Validation Accuracy = {val_accuracy:.4f}')\n",
        "\n",
        "plt.plot(range(10, 101, 10), training_accuracy, label='Training Accuracy')\n",
        "plt.plot(range(10, 101, 10), validation_accuracy, label='Validation Accuracy')\n",
        "plt.xlabel('Epoch')\n",
        "plt.ylabel('Accuracy')\n",
        "plt.legend()\n",
        "plt.show()\n"
      ]
    }
  ],
  "metadata": {
    "colab": {
      "toc_visible": true,
      "provenance": []
    },
    "kernelspec": {
      "display_name": "Python 3",
      "name": "python3"
    },
    "language_info": {
      "name": "python"
    }
  },
  "nbformat": 4,
  "nbformat_minor": 0
}